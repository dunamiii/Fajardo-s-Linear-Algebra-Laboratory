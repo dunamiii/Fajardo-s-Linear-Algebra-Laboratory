{
 "cells": [
  {
   "cell_type": "markdown",
   "metadata": {},
   "source": [
    "# Linear Algebra (CpE210A)\n",
    "## Laboratory 1: Getting acquainted with Python\n",
    "\n",
    "*Coded and submitted by:\n",
    "<br> Fajardo, Donna Mae O.\n",
    "<br> 58010*\n",
    "\n",
    "#### Lab Exercise:"
   ]
  },
  {
   "cell_type": "code",
   "execution_count": 29,
   "metadata": {},
   "outputs": [],
   "source": [
    "party = ['Charmander', 'Pidgey', 'Sandshrew', 'Rattata', 'Abra']\n",
    "levels = [15, 11, 18, 5, 14]"
   ]
  },
  {
   "cell_type": "code",
   "execution_count": 26,
   "metadata": {},
   "outputs": [
    {
     "name": "stdout",
     "output_type": "stream",
     "text": [
      "Charmander at level 15\n",
      "Pidgey at level 11\n",
      "Sandshrew at level 18\n",
      "Rattata at level 5\n",
      "Abra at level 14\n"
     ]
    }
   ],
   "source": [
    "for party, level in zip(party, levels): #zip function is used\n",
    "    print(f\"{party} at level {level}\" ) # function is being called to print"
   ]
  },
  {
   "cell_type": "code",
   "execution_count": 13,
   "metadata": {},
   "outputs": [],
   "source": [
    "reserves = [\n",
    "    ('Onix',10),\n",
    "    ('Slowpoke',18),\n",
    "    ('Dialga', 2),\n",
    "    ('Magikarp', 32),\n",
    "    ('Feebas', 22),\n",
    "    ('Swablu', 19),\n",
    "    ('Regigigas', 3),\n",
    "    ('Unown', 50)\n",
    "]"
   ]
  },
  {
   "cell_type": "code",
   "execution_count": 19,
   "metadata": {},
   "outputs": [
    {
     "name": "stdout",
     "output_type": "stream",
     "text": [
      "['Dialga', 'Regigigas', 'Onix']\n"
     ]
    }
   ],
   "source": [
    "reserves.sort(key=lambda reserves: reserves[1]) #lambda and sort function is used\n",
    "print([party[0] for party in reserves[0:3]])    #the sorted lambda is being called with showing rows only [0:3]"
   ]
  },
  {
   "cell_type": "code",
   "execution_count": 27,
   "metadata": {},
   "outputs": [],
   "source": [
    "def create_party (party, candidates):\n",
    "    candidates = ['Feebas','Magikarp','Unown'] #candidates were named\n",
    "    return party                               #party is being called and returned"
   ]
  },
  {
   "cell_type": "code",
   "execution_count": 30,
   "metadata": {},
   "outputs": [
    {
     "name": "stdout",
     "output_type": "stream",
     "text": [
      "['Charmander', 'Pidgey', 'Sandshrew', 'Rattata', 'Abra', 'Feebas']\n",
      "['Charmander', 'Pidgey', 'Sandshrew', 'Rattata', 'Abra', 'Magikarp']\n",
      "['Charmander', 'Pidgey', 'Sandshrew', 'Rattata', 'Abra', 'Unown']\n"
     ]
    }
   ],
   "source": [
    "cp= create_party(party, candidates)\n",
    "p=party\n",
    "p.append(candidates[0])\n",
    "print (cp)\n",
    "p.append(candidates[1])\n",
    "p.pop(5)\n",
    "print(cp)\n",
    "p.append(candidates[2])\n",
    "p.pop(5)\n",
    "print (cp)\n"
   ]
  },
  {
   "cell_type": "markdown",
   "metadata": {},
   "source": [
    "### Discussions\n",
    "##### For your observations section, kindly discuss your code implementation per graded cell.  \n",
    "##### Kindly answer these questions on the conclusion section of your laboratory report.\n",
    " \n",
    "<br>1. **In your perspective, what is the difference between Python and C++ or other languages you have used before? (30 words)**\n",
    "   <br>  The difference between Python from other language and ill compare it to C# for it was the language i've used the most last term. The difference is python is easier to comprehend than C#, i guess? Or is it because i have a background with C#. Anyway i like that python has an IDE like jupyter notebook that can show the result per cell, unlike running the whole codes. With that its much easier to spot the errors and such. <br>\n",
    " \n",
    "<br> 2. **Enumerate and briefly discuss the functions you have used in the laboratory exercise, please cite their usage using their respective documentations. (200 words)**\n",
    "    <br> In graded Cell 1, the function zip is used for the list. It is used to shorten and join the two list. Then we call the function and print the first list to its corresponding second list partner.[1]\n",
    "     Another list were presented in the second graded cell, but in array form. The function used here is lambda. Lambda is used to take the whole function into single expression and return it as a whole function as well[2]. Where lambda is used to call the reserves with its array 1. Another function used together with lambda is sort. Sort is used to sort the reserves from lowest to highest level of the pokemon. [3]\n",
    "     For the last graded cell, a new function is defined named \"create_party\" under this there are two parameters, the party and candidate. The party is already named at graded cell 1. That's why candidates are named under the newly created function. The functions used here are append and pop. Append and pop are used for arrays. Append is used to add a new value to the end of the array while the pop function is used to remove a value from the array and returns the default item in the list.[4] Everytime append and pop function is used printing the function create_party is executed to see the result. <br>\n",
    "\n",
    "<br> 3. **In your perspective, what is the advantages and disadvantages of using Python and Jupyter Notebooks? (100 words)** \n",
    "    <br> The advantage of using Python is you are able to code on many platforms that is using the language and it has a very supportive community to help you and there are a lot of libraries available. I dont think i could give any disadvantage yet because i only started using the language and i am not that well informed about this. As for the advantage of jupyter notebook is i really like that you could run the code every cell individually. Its really easy to see the error and try out different codes for that cell. "
   ]
  },
  {
   "cell_type": "markdown",
   "metadata": {},
   "source": [
    "**References:** <br>\n",
    "[1]  Pankaj. (2020, July 14). Python zip() function. Retrieved September 30, 2020, from https://www.journaldev.com/15891/python-zip-function<br>\n",
    "<br> [2] Samuel, N. (n.d.). Lambda Functions in Python. Retrieved September 30, 2020, from https://stackabuse.com/lambda-functions-in-python/ <br>\n",
    "<br> [3] Sorting HOW TO¶. (n.d.). Retrieved September 30, 2020, from https://docs.python.org/3/howto/sorting.html?highlight=sorted <br>\n",
    "<br> [4] Array - Efficient arrays of numeric values¶. (n.d.). Retrieved September 30, 2020, from https://docs.python.org/3/library/array.html?highlight=append <br>"
   ]
  }
 ],
 "metadata": {
  "kernelspec": {
   "display_name": "Python 3",
   "language": "python",
   "name": "python3"
  },
  "language_info": {
   "codemirror_mode": {
    "name": "ipython",
    "version": 3
   },
   "file_extension": ".py",
   "mimetype": "text/x-python",
   "name": "python",
   "nbconvert_exporter": "python",
   "pygments_lexer": "ipython3",
   "version": "3.8.3"
  }
 },
 "nbformat": 4,
 "nbformat_minor": 4
}
